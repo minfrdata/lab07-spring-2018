{
 "cells": [
  {
   "cell_type": "markdown",
   "metadata": {},
   "source": [
    "### Creating the SparkContext and SparkSession objects to connect to the Spark Cluster\n",
    "\n",
    "Since the Jupyter notebooks are using the Python 2 Kernel, you will need to \"connect\" to the cluster in each Jupyter notebook to run the code. This was done for the sake of simplicity, and the notebooks provided in this Lab/Assignment should work without issue. However, should you run these notebooks in another platform, they may not work. \n",
    "\n",
    "You have to import the `pyspark` module, and to connect to the cluster in this workbook you can run the following cell. You may want to copy this cell to other workbooks you start, and you can change the `appName`."
   ]
  },
  {
   "cell_type": "code",
   "execution_count": 1,
   "metadata": {
    "collapsed": true
   },
   "outputs": [],
   "source": [
    "from pyspark import SparkContext, SparkConf\n",
    "from pyspark.sql import SparkSession\n",
    "spark = SparkSession.builder.appName(\"my-app-name\").getOrCreate()\n",
    "sc    = spark.sparkContext      # get the context"
   ]
  },
  {
   "cell_type": "markdown",
   "metadata": {},
   "source": [
    "**Important!: Close the sc connection before you close your notebook.**\n",
    "\n",
    "Just as you have to crete the connection object, you need to shut down the connection before you exit the Jupyter notebook. If you do not do this, then you will have orphan connection to the cluster which will have asked for resources and not released them. Remember, Spark uses memory, so if the memorys isn't available when you create a connection object, then Spark will not perform.\n",
    "\n",
    "Closing the connection is very easy. (Do not run the following cell unless you want to close the connection). This cell has not been added to the example notebooks, it is up to you do do it."
   ]
  },
  {
   "cell_type": "code",
   "execution_count": 3,
   "metadata": {
    "collapsed": true
   },
   "outputs": [],
   "source": [
    "sc.stop()"
   ]
  },
  {
   "cell_type": "markdown",
   "metadata": {},
   "source": [
    "### Explanation of SparkContext and SparkSession\n",
    "\n",
    "** Note: This section was taken verbatim from the book [Fast Data Processing with Spark - 3ed](https://www.packtpub.com/big-data-and-business-intelligence/fast-data-processing-spark-2-third-edition).**\n",
    "\n",
    "Prior to Spark 2.0.0, the three main connection objects were `SparkContext, SqlContext, and HiveContext`. The `SparkContext` object was the connection to a Spark execution environment and created RDDs and others, `SQLContext` worked with `SparkSQL` in the background of `SparkContext`, and `HiveContext` interacted with the Hive stores.\n",
    "\n",
    "Spark 2.0.0 introduced Datasets/DataFrames as the main distributed data abstraction interface and the `SparkSession` object as the entry point to a Spark execution environment. Appropriately, the `SparkSession` object is found in the namespace, `org.apache.spark.sql.SparkSession` (Scala), or `pyspark.sql.sparkSession`. A few points to note are as follows:\n",
    "\n",
    "* In Scala and Java, Datasets form the main data abstraction as typed data; however, for Python and R (which do not have compile time type checking), the data abstraction is DataFrame. For all practical API purposes, the Datasets in Scala/Java are the same as DataFrames in Python/R.\n",
    "* While Datasets/DataFrames are top-level interfaces, RDDs have not disappeared. In fact, the underlying structures are still RRDs. Also, to interact with RDDs, we still need a SparkContext object and we can get one from the SparkSession object.\n",
    "* The `SparkSession` object encapsulates the `SparkContext` object. As of version 2.0.0, `SparkContext` is still the conduit to a Spark cluster (local or remote)\n",
    "\n",
    "However, for operations such as reading and creating Datasets, use the `SparkSession` object."
   ]
  },
  {
   "cell_type": "markdown",
   "metadata": {},
   "source": [
    "To see some of the attributes associated with the `SparkSession` and `SparkContext` you can run some methods:"
   ]
  },
  {
   "cell_type": "code",
   "execution_count": 2,
   "metadata": {},
   "outputs": [
    {
     "data": {
      "text/plain": [
       "u'2.1.0'"
      ]
     },
     "execution_count": 2,
     "metadata": {},
     "output_type": "execute_result"
    }
   ],
   "source": [
    "sc.version"
   ]
  },
  {
   "cell_type": "code",
   "execution_count": 3,
   "metadata": {},
   "outputs": [
    {
     "data": {
      "text/plain": [
       "u'2.1.0'"
      ]
     },
     "execution_count": 3,
     "metadata": {},
     "output_type": "execute_result"
    }
   ],
   "source": [
    "spark.version"
   ]
  },
  {
   "cell_type": "markdown",
   "metadata": {},
   "source": [
    "You can see that your cluster is connected to a cluster using YARN"
   ]
  },
  {
   "cell_type": "code",
   "execution_count": 4,
   "metadata": {},
   "outputs": [
    {
     "data": {
      "text/plain": [
       "u'yarn'"
      ]
     },
     "execution_count": 4,
     "metadata": {},
     "output_type": "execute_result"
    }
   ],
   "source": [
    "sc.master"
   ]
  },
  {
   "cell_type": "code",
   "execution_count": 5,
   "metadata": {},
   "outputs": [
    {
     "name": "stdout",
     "output_type": "stream",
     "text": [
      "spark.app.name=my-app-name\n",
      "spark.driver.extraClassPath=/usr/lib/hadoop-lzo/lib/*:/usr/lib/hadoop/hadoop-aws.jar:/usr/share/aws/aws-java-sdk/*:/usr/share/aws/emr/emrfs/conf:/usr/share/aws/emr/emrfs/lib/*:/usr/share/aws/emr/emrfs/auxlib/*:/usr/share/aws/emr/security/conf:/usr/share/aws/emr/security/lib/*\n",
      "spark.driver.extraJavaOptions=-XX:+UseConcMarkSweepGC -XX:CMSInitiatingOccupancyFraction=70 -XX:MaxHeapFreeRatio=70 -XX:+CMSClassUnloadingEnabled -XX:OnOutOfMemoryError='kill -9 %p'\n",
      "spark.driver.extraLibraryPath=/usr/lib/hadoop/lib/native:/usr/lib/hadoop-lzo/lib/native\n",
      "spark.dynamicAllocation.enabled=true\n",
      "spark.eventLog.dir=hdfs:///var/log/spark/apps\n",
      "spark.eventLog.enabled=true\n",
      "spark.executor.cores=4\n",
      "spark.executor.extraClassPath=/usr/lib/hadoop-lzo/lib/*:/usr/lib/hadoop/hadoop-aws.jar:/usr/share/aws/aws-java-sdk/*:/usr/share/aws/emr/emrfs/conf:/usr/share/aws/emr/emrfs/lib/*:/usr/share/aws/emr/emrfs/auxlib/*:/usr/share/aws/emr/security/conf:/usr/share/aws/emr/security/lib/*\n",
      "spark.executor.extraJavaOptions=-verbose:gc -XX:+PrintGCDetails -XX:+PrintGCDateStamps -XX:+UseConcMarkSweepGC -XX:CMSInitiatingOccupancyFraction=70 -XX:MaxHeapFreeRatio=70 -XX:+CMSClassUnloadingEnabled -XX:OnOutOfMemoryError='kill -9 %p'\n",
      "spark.executor.extraLibraryPath=/usr/lib/hadoop/lib/native:/usr/lib/hadoop-lzo/lib/native\n",
      "spark.executor.memory=5120M\n",
      "spark.hadoop.yarn.timeline-service.enabled=false\n",
      "spark.history.fs.logDirectory=hdfs:///var/log/spark/apps\n",
      "spark.history.ui.port=18080\n",
      "spark.master=yarn\n",
      "spark.shuffle.service.enabled=true\n",
      "spark.sql.hive.metastore.sharedPrefixes=com.amazonaws.services.dynamodbv2\n",
      "spark.sql.warehouse.dir=hdfs:///user/spark/warehouse\n",
      "spark.submit.deployMode=client\n",
      "spark.ui.proxyBase=/proxy/application_1498593832174_0001\n",
      "spark.yarn.dist.files=file:/etc/spark/conf/hive-site.xml\n",
      "spark.yarn.historyServer.address=ip-172-31-62-160.ec2.internal:18080\n",
      "spark.yarn.isPython=true\n"
     ]
    }
   ],
   "source": [
    "from pyspark.conf import SparkConf\n",
    "conf = SparkConf()\n",
    "print(conf.toDebugString())"
   ]
  }
 ],
 "metadata": {
  "kernelspec": {
   "display_name": "Python 2",
   "language": "python",
   "name": "python2"
  },
  "language_info": {
   "codemirror_mode": {
    "name": "ipython",
    "version": 2
   },
   "file_extension": ".py",
   "mimetype": "text/x-python",
   "name": "python",
   "nbconvert_exporter": "python",
   "pygments_lexer": "ipython2",
   "version": "2.7.12"
  }
 },
 "nbformat": 4,
 "nbformat_minor": 2
}
